{
  "nbformat": 4,
  "nbformat_minor": 0,
  "metadata": {
    "colab": {
      "provenance": [],
      "authorship_tag": "ABX9TyN6LNXA+ydYlrw49L2wjqMC",
      "include_colab_link": true
    },
    "kernelspec": {
      "name": "python3",
      "display_name": "Python 3"
    },
    "language_info": {
      "name": "python"
    }
  },
  "cells": [
    {
      "cell_type": "markdown",
      "metadata": {
        "id": "view-in-github",
        "colab_type": "text"
      },
      "source": [
        "<a href=\"https://colab.research.google.com/github/Walberf17/Walberf17/blob/main/8_queens_Integer.ipynb\" target=\"_parent\"><img src=\"https://colab.research.google.com/assets/colab-badge.svg\" alt=\"Open In Colab\"/></a>"
      ]
    },
    {
      "cell_type": "markdown",
      "source": [
        "# Algorith to solve the N-queens problem"
      ],
      "metadata": {
        "id": "TGKI6RC5stqC"
      }
    },
    {
      "cell_type": "markdown",
      "source": [
        "## The problem"
      ],
      "metadata": {
        "id": "FV5Bq3n5tJwJ"
      }
    },
    {
      "cell_type": "markdown",
      "source": [
        "In a NxN ChessBoard, N queens will be set, but in a way that one can't attack another.\n",
        "\n",
        "This uses a integer codification.\n",
        "\n",
        "The ChessBoard is always NxN for N queens, where N is a Integer number, higher then zero.\n",
        "\n",
        "This is a population algorithm."
      ],
      "metadata": {
        "id": "CWfYGSSIs4Oy"
      }
    },
    {
      "cell_type": "markdown",
      "source": [
        "## Imports"
      ],
      "metadata": {
        "id": "3OMZs9WHtHsw"
      }
    },
    {
      "cell_type": "code",
      "execution_count": 285,
      "metadata": {
        "id": "w2DBkGxhWdJF"
      },
      "outputs": [],
      "source": [
        "# For the solution\n",
        "from random import random , sample , randrange, choice, shuffle\n",
        "from statistics import mean , harmonic_mean\n",
        "import numpy as np\n",
        "\n",
        "# For showning results\n",
        "import matplotlib.pyplot as plt"
      ]
    },
    {
      "cell_type": "code",
      "source": [
        "class Evolution:\n",
        "    def __init__(self, n_size = 8, pop_size = 100, mutation_chance = .03, \n",
        "                 reprodution_chance = .8, max_generations = 100, \n",
        "                 generations_with_same_fitness = 100):\n",
        "        self.n_size = n_size\n",
        "        self.pop_size = pop_size\n",
        "        self.population = list()\n",
        "        self.fit_ticks = 0\n",
        "        self.generation = -1\n",
        "        self.generations_with_same_fitness = -1\n",
        "        self.max_generations_with_same_fitness = generations_with_same_fitness\n",
        "        self.create_population()\n",
        "        self.mutation_chance = mutation_chance\n",
        "        self.reprodution_chance = reprodution_chance\n",
        "        self.parents = list()\n",
        "        self.children = list()\n",
        "        self.mutants = list()\n",
        "        self.best_fitness_list = list()\n",
        "        self.best_fitness = float('inf')\n",
        "        self.max_generations = max_generations\n",
        "        self.set_next_generation()\n",
        "        \n",
        "    def set_next_generation(self):\n",
        "        \"\"\"\n",
        "        Reset the lists and select the next best population with the same size \n",
        "        as the initial one.\n",
        "        \"\"\"\n",
        "        # counters\n",
        "        self.generations_with_same_fitness += 1\n",
        "        self.generation += 1\n",
        "        \n",
        "        # children\n",
        "        self.population.extend(self.children)\n",
        "        self.children.clear()\n",
        "\n",
        "        # mutants\n",
        "        self.population.extend(self.mutants)\n",
        "        self.mutants.clear()\n",
        "\n",
        "        # select the population\n",
        "        self.population.sort(reverse = False , key = self.take_fitness)\n",
        "        self.population = self.population[:self.pop_size]\n",
        "\n",
        "        # set the metrics\n",
        "        _ , best_fitness = self.population[0]\n",
        "        self.best_fitness_list.append(best_fitness)\n",
        "        if best_fitness < self.best_fitness:\n",
        "            self.best_fitness = best_fitness\n",
        "            self.generations_with_same_fitness = 0\n",
        "\n",
        "    def take_fitness(self, individual):\n",
        "        \"\"\"\n",
        "        Function to organize the elements in the population\n",
        "        \"\"\"\n",
        "        return individual[1]\n",
        "\n",
        "    def create_population(self, pop_size = None):\n",
        "        \"\"\"\n",
        "        Create the initial population for thi object with that many individuals.\n",
        "        If pop_size is None, then the initial pop_size is used.\n",
        "        \"\"\"\n",
        "        if pop_size is None:\n",
        "            pop_size = self.pop_size\n",
        "        for _ in range(pop_size):\n",
        "            individual = self.create_n()\n",
        "            while individual in self.population:\n",
        "                individual = self.create_n()\n",
        "            self.population.append(individual)\n",
        "\n",
        "    def create_n(self):\n",
        "        \"\"\"\n",
        "        Create a individual for the population.\n",
        "        The individual is a list with the dna and fitness.\n",
        "        \"\"\"\n",
        "        individual = []\n",
        "        dna = list(range(self.n_size))\n",
        "        shuffle(dna)\n",
        "        individual.append(dna)\n",
        "        individual.append(self.calc_fit(dna))\n",
        "        return individual\n",
        "\n",
        "    def calc_fit(self, individual):\n",
        "        \"\"\"\n",
        "        the sample is a list of ints, from 0 to N. Return a float with the value for the fit of\n",
        "        this sample\n",
        "\n",
        "        param n : list of bits, the sample\n",
        "        return : int\n",
        "        \"\"\"\n",
        "        self.fit_ticks += 1\n",
        "\n",
        "        m_diags = set() # diagonais principais\n",
        "        s_diags = set() # diagonais secundárias\n",
        "        len_ind = len(individual)\n",
        "        for idx , pos in enumerate(individual):\n",
        "            m_diags.add(pos - idx)\n",
        "            s_diags.add(idx + pos)\n",
        "        \n",
        "        fitness = 0\n",
        "        fitness += abs(len_ind - len(m_diags))\n",
        "        fitness += abs(len_ind - len(s_diags))\n",
        "\n",
        "        return fitness\n",
        "\n",
        "    def print_board(self, individual = None):\n",
        "        \"\"\"\n",
        "        Print the individual if any given, or the best individual of this generation\n",
        "        \"\"\"\n",
        "        if individual is None:\n",
        "            individual = self.population[0]\n",
        "        board , fit = individual\n",
        "        sample_size = [len(board)]*2\n",
        "        b = np.zeros(sample_size)\n",
        "        a = np.full_like(b, '_' , dtype='object')\n",
        "        for i, j in enumerate(board):\n",
        "            a[i][j]='Q'\n",
        "        for row in a:\n",
        "            print(row)\n",
        "\n",
        "    def selector(self):\n",
        "        \"\"\"\n",
        "        Championish.\n",
        "\n",
        "        Loop throught the population and make a competition between that individual\n",
        "        and another random one. The winner is selected as a parent.\n",
        "\n",
        "        param pop : list of lists with the population.\n",
        "        param fit : func with the fit to use\n",
        "        \"\"\"\n",
        "        parents = []\n",
        "        self.population.sort(reverse = False , key=self.take_fitness)\n",
        "        for p1 in self.population:\n",
        "            couple = [p1]\n",
        "            couple.append(choice(self.population))\n",
        "            couple.sort(reverse = False , key=self.take_fitness)\n",
        "            self.parents.append(couple[0])\n",
        "    \n",
        "    def selection_handle(self):\n",
        "        \"\"\"\n",
        "        Selects the parents to reproduce\n",
        "        \"\"\"\n",
        "        self.parents = list()\n",
        "        self.selector()\n",
        "        self.parents = self.parents[:self.pop_size//2]\n",
        "\n",
        "    def reprodution_handle(self):\n",
        "        \"\"\"\n",
        "        clear the old list and check the reprodution\n",
        "        \"\"\"\n",
        "        for _ in range(len(self.parents)):\n",
        "            p1 , p2 = sample(self.parents , 2)\n",
        "            if random() > self.reprodution_chance:\n",
        "                self.reproduce(p1 , p2)\n",
        "\n",
        "    def reproduce(self, p1 , p2):\n",
        "        \"\"\"\n",
        "        param p1 : list of dna and fitness, a parent\n",
        "        param p2 : list of dna and fitness, a parent\n",
        "        cut the DNA in some random position, then take a part of each parent to a \n",
        "        child, the rest is from the second parent.\n",
        "        \"\"\"\n",
        "        cut_pos = randrange(1 , len(p1[0])-2)\n",
        "\n",
        "        # first child\n",
        "        dna = p1[0][:cut_pos]\n",
        "        child = []\n",
        "        other_parent = p2[0][:]\n",
        "        for value in dna:\n",
        "            other_parent.remove(value)\n",
        "        dna.extend(other_parent)\n",
        "        child = [dna , self.calc_fit(dna)]\n",
        "        if child not in self.mutants+self.population+self.children: \n",
        "            self.children.append(child)\n",
        "\n",
        "\n",
        "        # second child\n",
        "        dna = p2[0][:cut_pos]\n",
        "        child = []\n",
        "        other_parent = p1[0][:]\n",
        "        for value in dna:\n",
        "            other_parent.remove(value)\n",
        "        dna.extend(other_parent)\n",
        "        child = [dna , self.calc_fit(dna)]\n",
        "        if child not in self.mutants+self.population+self.children: \n",
        "            self.children.append(child)\n",
        "\n",
        "    def mutation_handle(self):\n",
        "        \"\"\"\n",
        "        param pop : list of list to try to mutate\n",
        "        param func_mut : function to use when mutating\n",
        "        \"\"\"\n",
        "        for individual in self.children:\n",
        "            if random() <= self.mutation_chance:\n",
        "                self.mutation(individual)\n",
        "\n",
        "    def mutation(self, individual):\n",
        "        \"\"\"\n",
        "        param n : a list, a sample\n",
        "\n",
        "        It takes a list and swap the position of 2 elements\n",
        "        \"\"\"\n",
        "        board = individual[0][:]\n",
        "        pos1 , pos2 = sample(list(range(len(board))),2)\n",
        "        board[pos1] , board[pos2] = board[pos2] , board[pos1]\n",
        "        individual = [board , self.calc_fit(board)]\n",
        "        if individual not in self.mutants+self.population+self.children: \n",
        "            self.mutants.append(individual)\n",
        "\n",
        "    def evolve(self, max_generations = None, initial_generation = None):\n",
        "        running = True\n",
        "\n",
        "        if initial_generation is None:\n",
        "            generation = self.generation\n",
        "        \n",
        "        if max_generations is None:\n",
        "            max_generations = self.max_generations\n",
        "        else:\n",
        "            generation = 0\n",
        "            \n",
        "        while running:\n",
        "            self.run()\n",
        "\n",
        "            generation += 1\n",
        "\n",
        "            # check condition to stop\n",
        "            if generation >= max_generations:\n",
        "                running = False\n",
        "\n",
        "            elif self.best_fitness == 0:\n",
        "                running = False\n",
        "\n",
        "            elif self.generations_with_same_fitness >= self.max_generations_with_same_fitness:\n",
        "                running = False\n",
        "\n",
        "    def run(self):\n",
        "        self.selection_handle()\n",
        "        self.reprodution_handle()\n",
        "        self.mutation_handle()\n",
        "        self.set_next_generation()\n",
        "\n",
        "    def get_best_individual(self):\n",
        "        return self.population[0]\n",
        "\n",
        "    def get_best_dna(self):\n",
        "        return self.population[0][0]\n",
        "\n",
        "    def get_best_fitness(self):\n",
        "        return self.population[0][1]\n",
        "\n",
        "    def get_fitness_calculated(self):\n",
        "        return self.fit_ticks\n",
        "\n",
        "    def plot_fitness_list(self):\n",
        "        plt.plot(self.best_fitness_list)\n",
        "        plt.xlabel(\"Generations\")\n",
        "        plt.ylabel(\"Fitness\")\n",
        "        plt.show()"
      ],
      "metadata": {
        "id": "wULXBZRstuha"
      },
      "execution_count": 286,
      "outputs": []
    },
    {
      "cell_type": "code",
      "source": [
        "a = Evolution(n_size = 8)\n",
        "a.evolve()\n",
        "a.plot_fitness_list()"
      ],
      "metadata": {
        "colab": {
          "base_uri": "https://localhost:8080/",
          "height": 279
        },
        "id": "q9e4VNQPAREE",
        "outputId": "3d3df3ca-e981-4c7b-fc53-d3f043e12a62"
      },
      "execution_count": 288,
      "outputs": [
        {
          "output_type": "display_data",
          "data": {
            "text/plain": [
              "<Figure size 432x288 with 1 Axes>"
            ],
            "image/png": "[encoded data removed]"
          },
          "metadata": {
            "needs_background": "light"
          }
        }
      ]
    },
    {
      "cell_type": "code",
      "source": [
        "a.get_best_fitness()"
      ],
      "metadata": {
        "colab": {
          "base_uri": "https://localhost:8080/"
        },
        "id": "KbWUuAhEA9OS",
        "outputId": "09a8ff31-ec14-47e3-9168-691c4cc11fe6"
      },
      "execution_count": 277,
      "outputs": [
        {
          "output_type": "execute_result",
          "data": {
            "text/plain": [
              "0"
            ]
          },
          "metadata": {},
          "execution_count": 277
        }
      ]
    },
    {
      "cell_type": "code",
      "source": [
        "a.generation"
      ],
      "metadata": {
        "colab": {
          "base_uri": "https://localhost:8080/"
        },
        "id": "1ZzX0M45MiVp",
        "outputId": "35eb0816-1b6d-43c2-8fe7-b66fe4bb08e0"
      },
      "execution_count": 278,
      "outputs": [
        {
          "output_type": "execute_result",
          "data": {
            "text/plain": [
              "12"
            ]
          },
          "metadata": {},
          "execution_count": 278
        }
      ]
    },
    {
      "cell_type": "code",
      "source": [
        "a.print_board()"
      ],
      "metadata": {
        "colab": {
          "base_uri": "https://localhost:8080/"
        },
        "id": "5n54IdWBE_nC",
        "outputId": "4c2f5b40-990a-4037-9dac-e08e39f4ba02"
      },
      "execution_count": 279,
      "outputs": [
        {
          "output_type": "stream",
          "name": "stdout",
          "text": [
            "['_' '_' '_' 'Q' '_' '_' '_' '_']\n",
            "['_' '_' '_' '_' '_' '_' '_' 'Q']\n",
            "['Q' '_' '_' '_' '_' '_' '_' '_']\n",
            "['_' '_' '_' '_' 'Q' '_' '_' '_']\n",
            "['_' '_' '_' '_' '_' '_' 'Q' '_']\n",
            "['_' 'Q' '_' '_' '_' '_' '_' '_']\n",
            "['_' '_' '_' '_' '_' 'Q' '_' '_']\n",
            "['_' '_' 'Q' '_' '_' '_' '_' '_']\n"
          ]
        }
      ]
    },
    {
      "cell_type": "code",
      "source": [
        "a.plot_histogram()"
      ],
      "metadata": {
        "colab": {
          "base_uri": "https://localhost:8080/",
          "height": 279
        },
        "id": "aiM5Ns1YJS5e",
        "outputId": "13404048-8d0f-4d31-8216-ab93af614350"
      },
      "execution_count": 280,
      "outputs": [
        {
          "output_type": "display_data",
          "data": {
            "text/plain": [
              "<Figure size 432x288 with 1 Axes>"
            ],
            "image/png": "[encoded data removed]"
          },
          "metadata": {
            "needs_background": "light"
          }
        }
      ]
    }
  ]
}